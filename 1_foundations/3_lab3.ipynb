{
 "cells": [
  {
   "cell_type": "markdown",
   "metadata": {},
   "source": [
    "## Welcome to Lab 3 for Week 1 Day 4\n",
    "\n",
    "Today we're going to build something with immediate value!\n",
    "\n",
    "In the folder `me` I've put a single file `linkedin.pdf` - it's a PDF download of my LinkedIn profile.\n",
    "\n",
    "Please replace it with yours!\n",
    "\n",
    "I've also made a file called `summary.txt`\n",
    "\n",
    "We're not going to use Tools just yet - we're going to add the tool tomorrow."
   ]
  },
  {
   "cell_type": "markdown",
   "metadata": {},
   "source": [
    "<table style=\"margin: 0; text-align: left; width:100%\">\n",
    "    <tr>\n",
    "        <td style=\"width: 150px; height: 150px; vertical-align: middle;\">\n",
    "            <img src=\"../assets/tools.png\" width=\"150\" height=\"150\" style=\"display: block;\" />\n",
    "        </td>\n",
    "        <td>\n",
    "            <h2 style=\"color:#00bfff;\">Looking up packages</h2>\n",
    "            <span style=\"color:#00bfff;\">In this lab, we're going to use the wonderful Gradio package for building quick UIs, \n",
    "            and we're also going to use the popular PyPDF PDF reader. You can get guides to these packages by asking \n",
    "            ChatGPT or Claude, and you find all open-source packages on the repository <a href=\"https://pypi.org\">https://pypi.org</a>.\n",
    "            </span>\n",
    "        </td>\n",
    "    </tr>\n",
    "</table>"
   ]
  },
  {
   "cell_type": "code",
   "execution_count": 1,
   "metadata": {},
   "outputs": [],
   "source": [
    "# If you don't know what any of these packages do - you can always ask ChatGPT for a guide!\n",
    "\n",
    "from dotenv import load_dotenv\n",
    "from openai import OpenAI\n",
    "from pypdf import PdfReader\n",
    "import gradio as gr\n",
    "import os"
   ]
  },
  {
   "cell_type": "code",
   "execution_count": 3,
   "metadata": {},
   "outputs": [
    {
     "name": "stdout",
     "output_type": "stream",
     "text": [
      "OpenAI API Key exists and begins sk-proj-\n",
      "Anthropic API Key not set (and this is optional)\n",
      "Google API Key exists and begins AI\n",
      "DeepSeek API Key not set (and this is optional)\n",
      "Groq API Key not set (and this is optional)\n"
     ]
    }
   ],
   "source": [
    "load_dotenv(override=True)\n",
    "\n",
    "\n",
    "openai_api_key = os.getenv('OPENAI_API_KEY')\n",
    "anthropic_api_key = os.getenv('ANTHROPIC_API_KEY')\n",
    "google_api_key = os.getenv('GOOGLE_API_KEY')\n",
    "deepseek_api_key = os.getenv('DEEPSEEK_API_KEY')\n",
    "groq_api_key = os.getenv('GROQ_API_KEY')\n",
    "\n",
    "if openai_api_key:\n",
    "    print(f\"OpenAI API Key exists and begins {openai_api_key[:8]}\")\n",
    "else:\n",
    "    print(\"OpenAI API Key not set\")\n",
    "    \n",
    "if anthropic_api_key:\n",
    "    print(f\"Anthropic API Key exists and begins {anthropic_api_key[:7]}\")\n",
    "else:\n",
    "    print(\"Anthropic API Key not set (and this is optional)\")\n",
    "\n",
    "if google_api_key:\n",
    "    print(f\"Google API Key exists and begins {google_api_key[:2]}\")\n",
    "else:\n",
    "    print(\"Google API Key not set (and this is optional)\")\n",
    "\n",
    "if deepseek_api_key:\n",
    "    print(f\"DeepSeek API Key exists and begins {deepseek_api_key[:3]}\")\n",
    "else:\n",
    "    print(\"DeepSeek API Key not set (and this is optional)\")\n",
    "\n",
    "if groq_api_key:\n",
    "    print(f\"Groq API Key exists and begins {groq_api_key[:4]}\")\n",
    "else:\n",
    "    print(\"Groq API Key not set (and this is optional)\")\n",
    "    \n",
    "openai = OpenAI()"
   ]
  },
  {
   "cell_type": "code",
   "execution_count": 13,
   "metadata": {},
   "outputs": [],
   "source": [
    "\n",
    "\n",
    "reader = PdfReader(\"me/linkedin.pdf\")\n",
    "linkedin = \"\"\n",
    "for page in reader.pages:\n",
    "    text = page.extract_text()\n",
    "    if text:\n",
    "        linkedin += text\n",
    "\n",
    "reader = PdfReader(\"me/cv.pdf\")\n",
    "cv = \"\"\n",
    "for page in reader.pages:\n",
    "    text = page.extract_text()\n",
    "    if text:\n",
    "        cv += text"
   ]
  },
  {
   "cell_type": "code",
   "execution_count": 14,
   "metadata": {},
   "outputs": [
    {
     "name": "stdout",
     "output_type": "stream",
     "text": [
      "Yair Nahum \n",
      "Atlit, Israel | ynahum@gmail.com |phone: 0507-355049 (+972) | LinkedIn: https://www.linkedin.com/in/ynahum/ |  \n",
      "GitHub: https://github.com/ynahum \n",
      " \n",
      "Education & Qualifications \n",
      "2020-2025: completed M.sc degree in AI and robotics with excellence (Average 91.3) at the Technion Electrical and Computers’ \n",
      "Engineering faculty. \n",
      "2001-2006: completed B.sc computers engineering degree with excellence (Average 88.6) at the Technion Computers’ Science \n",
      "faculty. \n",
      "2019-2020: RL specialization (4 courses specialization) by The University of Alberta, Deep learning specialization by \n",
      "deeplearning.ai and Machine Learning by Stanford University (Andru NG) on Coursera. LLMs engineering mastery on Udemy. \n",
      " \n",
      "Work Experience \n",
      "2012-Now – Intel Israel Haifa – SATG (SW Advanced Technologies Group) FLEX – Staff Senior SW engineer: \n",
      "• Real Sense – POC of RGB+DEPTH video streams over Ethernet using DDS protocols and standard (used by ROS2 \n",
      "topics) in Real Time embedded environment w/ FreeRTOS . Also, bring up ETH protocol POC and demo to replace an \n",
      "FPGA board (Bridge) used by camera vendors to connect to Nvidia Jetson HSB protocol as Real Sense already have the \n",
      "ETH interface on chip. \n",
      "• Mobileye validation team – enabled network stack in RT embedded environment. \n",
      "• Intel Labs group – POC of optical flow 3D feel for video conferencing over AWS services (EC 2, Kubernetes). Designed, \n",
      "implemented and tested cloud C++ SW for uploading several cameras streams, trigger OF algo and stream to clients. \n",
      "• IPU HW simulator team as a Senior SW engineer - Developed HW kernels models for simulating HW as SDK (for \n",
      "SW/FW development on top). Exceeded expectations, promoted and was rewarded on execution with urgency.  \n",
      "Established new IPU Sim infrastructure and MOW in the team. \n",
      "• Real Time embedded FW engineer in the Skylake SOC Camera subsystem - Developed FW controlling the numerous \n",
      "different image processing kernels in the pipe. Also, DSP w/ SIMD simple kernels. Integrated and debugged the FW on \n",
      "Windows OS environment (with the driver team) and root caused major blocking bugs.  \n",
      "2006-2012 – Zoran corporation – Worked as a Real Time embedded system FW engineer (ThreadX RTOS) at the Digital \n",
      "Still/Video Cameras FW group: \n",
      "• Developed the codec (encoding and decoding) of Mpeg4/1 video standards for movie record/play modes. \n",
      "• Implemented the algorithm for digital video stabilization (DVS). \n",
      "• Lens distortion correction, image mix and image correction HW blocks drivers' development for several generations. \n",
      " \n",
      "Military Service \n",
      "1996-2000 – Tanks' Platoon commander in the IDF armored forces, Company commander’s deputy. In the Army reserves as \n",
      "Captain, mortars' Platoon commander in between 2000-2014. \n",
      " \n",
      "Skills \n",
      "Languages: Hebrew – native, English – fluent, \n",
      "Frameworks: Nav2, ROS2, Google Collab, Matlab, Simulink, PyTorch, TensorFlow, Keras, different RTOS \n",
      "Script & Programming Languages: Strong in Python, Modern C/C++11/14. Also, C#, Java.  \n",
      "Environments: Testing and running simulations in Unix/Linux/Windows OS environments with Git,GitHub, google tests. \n",
      "Robotics: control - MPC,MPPI, Pure Pursuit, PID. Motion Planning – RRT/RRT*,LazyA*,PRM..  \n",
      "AI/ML: LLMs -RAG, Tools, Agentic, Fine tune Frontier and Open-Source models \n",
      " \n",
      "Final Project \n",
      "Integrated the ROS 2 Navigation (Nav2) stack, and Developed custom ROS 2 nodes in C++/Python for real -time, sampling-based \n",
      "control of an autonomous race car simulation platform (F1TENTH AutoDrive Sim racing League).  \n",
      "Integrated the Model Predictive Path Integral (MPPI) controller with Nav2’s modular framework (BT Navigator, costmaps, \n",
      "transforms, map server) replacing the default controller. \n",
      "Validated performance in simulation environments, demonstrating smoother trajectories, better handling of sharp turns, and \n",
      "adaptive behavior under dynamic scenarios. \n",
      "https://github.com/ynahum/mrs_project_container \n",
      " \n",
      "Patent \n",
      "https://patents.google.com/patent/US20250077298A1 \n",
      " \n",
      "Interests & Activities \n",
      "Robotics enthusiast (control, motion planning, SLAM), Reinforcement learning, Computer Vision, Deep learning (specializing in \n",
      "NN, CNN and RNN).  Eager to transition to these domains also in the industry, contribute, learn and improve. \n",
      "Believes in collaboration and teamwork with a good atmosphere and w/o high egos.  \n",
      "For recommendations I can give the names of my managers/colleges. Also, grades sheets of relevant courses can be provided.  \n"
     ]
    }
   ],
   "source": [
    "print(cv)"
   ]
  },
  {
   "cell_type": "code",
   "execution_count": 6,
   "metadata": {},
   "outputs": [],
   "source": [
    "with open(\"me/summary.txt\", \"r\", encoding=\"utf-8\") as f:\n",
    "    summary = f.read()"
   ]
  },
  {
   "cell_type": "code",
   "execution_count": 8,
   "metadata": {},
   "outputs": [],
   "source": [
    "#name = \"Ed Donner\"\n",
    "name= \"Yair Nahum\""
   ]
  },
  {
   "cell_type": "code",
   "execution_count": 15,
   "metadata": {},
   "outputs": [],
   "source": [
    "system_prompt = f\"You are acting as {name}. You are answering questions on {name}'s website, \\\n",
    "particularly questions related to {name}'s career, background, skills and experience. \\\n",
    "Your responsibility is to represent {name} for interactions on the website as faithfully as possible. \\\n",
    "You are given a summary of {name}'s background and LinkedIn profile which you can use to answer questions. \\\n",
    "Be professional and engaging, as if talking to a potential client or future employer who came across the website. \\\n",
    "If you don't know the answer, say so.\"\n",
    "\n",
    "system_prompt += f\"\\n\\n## Summary:\\n{summary}\\n\\n## LinkedIn Profile:\\n{linkedin}\\n\\n## CV:\\n{cv}\\n\\n\"\n",
    "system_prompt += f\"With this context, please chat with the user, always staying in character as {name}.\"\n"
   ]
  },
  {
   "cell_type": "code",
   "execution_count": 16,
   "metadata": {},
   "outputs": [
    {
     "data": {
      "text/plain": [
       "\"You are acting as Yair Nahum. You are answering questions on Yair Nahum's website, particularly questions related to Yair Nahum's career, background, skills and experience. Your responsibility is to represent Yair Nahum for interactions on the website as faithfully as possible. You are given a summary of Yair Nahum's background and LinkedIn profile which you can use to answer questions. Be professional and engaging, as if talking to a potential client or future employer who came across the website. If you don't know the answer, say so.\\n\\n## Summary:\\nMy name is Yair Nahum. I'm an AI and Robotics enthusiast, RT embedded software engineer and data scientist. I'm from Atlit, Israel, Happiliy married +3 kids.\\nI love good classic Rock music (Beatles, Neil Young, The Rolling Stones, Led Zeppelin, Pink Floyd, The Police, Queen and lots more) and play my Guitar when I can.\\nAlso, Chess is a great hobby of mine.\\n\\n## LinkedIn Profile:\\n\\xa0 \\xa0\\nContact\\nynahum@gmail.com\\nwww.linkedin.com/in/ynahum\\n(LinkedIn)\\nTop Skills\\nNav2\\nC++\\nPython (Programming Language)\\nCertifications\\nImproving Deep Neural Networks:\\nHyperparameter tuning,\\nRegularization and Optimization\\nA Complete Reinforcement Learning\\nSystem (Capstone)\\nLLM Engineering: Master AI, Large\\nLanguage Models & Agents\\nROS2 Nav2 [Navigation 2 Stack] -\\nSLAM & Navigation\\nMath works Simulink Control Design\\nOnramp\\nPatents\\nMethods and apparatus to reduce an\\naction space for workload execution\\nYair Nahum\\nSenior FW Engineer | M.Sc. in Robotics & AI (Technion) | ML, DL,\\nGenAI, RL Enthusiast\\nIsrael\\nSummary\\nI am a Senior FW Engineer, now specializing in Robotics and\\nArtificial Intelligence.\\nAfter several years of solving complex, low-level engineering\\nchallenges, I completed my M.Sc. in Robotics at the Technion with\\nexcellent grades. My projects focused on autonomous systems,\\ngiving me hands-on experience in applying advanced AI techniques\\nto real-world robotics problems.\\nI bring a unique blend of industry-proven engineering expertise\\nand cutting-edge AI/Robotics knowledge. I thrive at the intersection\\nof hardware and intelligence, building solutions that are efficient,\\nscalable, and adaptive.\\nI am passionate about applying ML, RL, and GenAI to create\\nautonomous systems that can learn, adapt, and make intelligent\\ndecisions in dynamic environments.\\nAreas of interest: Robotics, Machine Learning, Reinforcement\\nLearning, Generative AI, Autonomous Systems, Control, Computer\\nVision.\\nExperience\\nTechnion - Israel Institute of Technology\\nMobile Robots - F1TENTH Sim Racing with Nav2 MPPI controller\\nSeptember 2024\\xa0-\\xa0Present\\xa0(1 year 1 month)\\nHaifa, Haifa District, Israel\\nIntegrated the ROS 2 Navigation (Nav2) stack, and Developed custom ROS 2\\nnodes in C++/Python for real-time, sampling-based control of an autonomous\\nrace car simulation platform (F1TENTH AutoDrive Sim racing League).\\n\\xa0 Page 1 of 2\\xa0 \\xa0\\nIntegrated the Model Predictive Path Integral (MPPI) controller with Nav2’s\\nmodular framework (BT Navigator, costmaps, transforms, map server)\\nreplacing the default controller.\\nValidated performance in simulation environments, demonstrating smoother\\ntrajectories, better handling of sharp turns, and adaptive behavior under\\ndynamic scenarios.\\nIntel Corporation\\nSenior SW Engineer\\nJuly 2012\\xa0-\\xa0Present\\xa0(13 years 3 months)\\nHaifa, Israel\\nZoran\\nReal time embedded SW engineer\\nMarch 2006\\xa0-\\xa0July 2012\\xa0(6 years 5 months)\\nHaifa Area, Israel\\nIntel Corporation\\npartial time SW work as a student\\nMarch 2004\\xa0-\\xa0March 2006\\xa0(2 years 1 month)\\nIntel\\nEducation\\nTechnion - Israel Institute of Technology\\nMaster of Science - MS,\\xa0AI and Robotics\\xa0·\\xa0(October 2019\\xa0-\\xa0August 2025)\\nTechnion - Israel Institute of Technology\\nBsc,\\xa0Computer's science\\xa0·\\xa0(2001\\xa0-\\xa02006)\\n\\xa0 Page 2 of 2\\n\\n## CV:\\nYair Nahum \\nAtlit, Israel | ynahum@gmail.com |phone: 0507-355049 (+972) | LinkedIn: https://www.linkedin.com/in/ynahum/ |  \\nGitHub: https://github.com/ynahum \\n \\nEducation & Qualifications \\n2020-2025: completed M.sc degree in AI and robotics with excellence (Average 91.3) at the Technion Electrical and Computers’ \\nEngineering faculty. \\n2001-2006: completed B.sc computers engineering degree with excellence (Average 88.6) at the Technion Computers’ Science \\nfaculty. \\n2019-2020: RL specialization (4 courses specialization) by The University of Alberta, Deep learning specialization by \\ndeeplearning.ai and Machine Learning by Stanford University (Andru NG) on Coursera. LLMs engineering mastery on Udemy. \\n \\nWork Experience \\n2012-Now – Intel Israel Haifa – SATG (SW Advanced Technologies Group) FLEX – Staff Senior SW engineer: \\n• Real Sense – POC of RGB+DEPTH video streams over Ethernet using DDS protocols and standard (used by ROS2 \\ntopics) in Real Time embedded environment w/ FreeRTOS . Also, bring up ETH protocol POC and demo to replace an \\nFPGA board (Bridge) used by camera vendors to connect to Nvidia Jetson HSB protocol as Real Sense already have the \\nETH interface on chip. \\n• Mobileye validation team – enabled network stack in RT embedded environment. \\n• Intel Labs group – POC of optical flow 3D feel for video conferencing over AWS services (EC 2, Kubernetes). Designed, \\nimplemented and tested cloud C++ SW for uploading several cameras streams, trigger OF algo and stream to clients. \\n• IPU HW simulator team as a Senior SW engineer - Developed HW kernels models for simulating HW as SDK (for \\nSW/FW development on top). Exceeded expectations, promoted and was rewarded on execution with urgency.  \\nEstablished new IPU Sim infrastructure and MOW in the team. \\n• Real Time embedded FW engineer in the Skylake SOC Camera subsystem - Developed FW controlling the numerous \\ndifferent image processing kernels in the pipe. Also, DSP w/ SIMD simple kernels. Integrated and debugged the FW on \\nWindows OS environment (with the driver team) and root caused major blocking bugs.  \\n2006-2012 – Zoran corporation – Worked as a Real Time embedded system FW engineer (ThreadX RTOS) at the Digital \\nStill/Video Cameras FW group: \\n• Developed the codec (encoding and decoding) of Mpeg4/1 video standards for movie record/play modes. \\n• Implemented the algorithm for digital video stabilization (DVS). \\n• Lens distortion correction, image mix and image correction HW blocks drivers' development for several generations. \\n \\nMilitary Service \\n1996-2000 – Tanks' Platoon commander in the IDF armored forces, Company commander’s deputy. In the Army reserves as \\nCaptain, mortars' Platoon commander in between 2000-2014. \\n \\nSkills \\nLanguages: Hebrew – native, English – fluent, \\nFrameworks: Nav2, ROS2, Google Collab, Matlab, Simulink, PyTorch, TensorFlow, Keras, different RTOS \\nScript & Programming Languages: Strong in Python, Modern C/C++11/14. Also, C#, Java.  \\nEnvironments: Testing and running simulations in Unix/Linux/Windows OS environments with Git,GitHub, google tests. \\nRobotics: control - MPC,MPPI, Pure Pursuit, PID. Motion Planning – RRT/RRT*,LazyA*,PRM..  \\nAI/ML: LLMs -RAG, Tools, Agentic, Fine tune Frontier and Open-Source models \\n \\nFinal Project \\nIntegrated the ROS 2 Navigation (Nav2) stack, and Developed custom ROS 2 nodes in C++/Python for real -time, sampling-based \\ncontrol of an autonomous race car simulation platform (F1TENTH AutoDrive Sim racing League).  \\nIntegrated the Model Predictive Path Integral (MPPI) controller with Nav2’s modular framework (BT Navigator, costmaps, \\ntransforms, map server) replacing the default controller. \\nValidated performance in simulation environments, demonstrating smoother trajectories, better handling of sharp turns, and \\nadaptive behavior under dynamic scenarios. \\nhttps://github.com/ynahum/mrs_project_container \\n \\nPatent \\nhttps://patents.google.com/patent/US20250077298A1 \\n \\nInterests & Activities \\nRobotics enthusiast (control, motion planning, SLAM), Reinforcement learning, Computer Vision, Deep learning (specializing in \\nNN, CNN and RNN).  Eager to transition to these domains also in the industry, contribute, learn and improve. \\nBelieves in collaboration and teamwork with a good atmosphere and w/o high egos.  \\nFor recommendations I can give the names of my managers/colleges. Also, grades sheets of relevant courses can be provided.  \\n\\nWith this context, please chat with the user, always staying in character as Yair Nahum.\""
      ]
     },
     "execution_count": 16,
     "metadata": {},
     "output_type": "execute_result"
    }
   ],
   "source": [
    "system_prompt"
   ]
  },
  {
   "cell_type": "code",
   "execution_count": 17,
   "metadata": {},
   "outputs": [],
   "source": [
    "def chat(message, history):\n",
    "    messages = [{\"role\": \"system\", \"content\": system_prompt}] + history + [{\"role\": \"user\", \"content\": message}]\n",
    "    response = openai.chat.completions.create(model=\"gpt-4o-mini\", messages=messages)\n",
    "    return response.choices[0].message.content"
   ]
  },
  {
   "cell_type": "markdown",
   "metadata": {},
   "source": [
    "## Special note for people not using OpenAI\n",
    "\n",
    "Some providers, like Groq, might give an error when you send your second message in the chat.\n",
    "\n",
    "This is because Gradio shoves some extra fields into the history object. OpenAI doesn't mind; but some other models complain.\n",
    "\n",
    "If this happens, the solution is to add this first line to the chat() function above. It cleans up the history variable:\n",
    "\n",
    "```python\n",
    "history = [{\"role\": h[\"role\"], \"content\": h[\"content\"]} for h in history]\n",
    "```\n",
    "\n",
    "You may need to add this in other chat() callback functions in the future, too."
   ]
  },
  {
   "cell_type": "code",
   "execution_count": 18,
   "metadata": {},
   "outputs": [
    {
     "name": "stdout",
     "output_type": "stream",
     "text": [
      "* Running on local URL:  http://127.0.0.1:7861\n",
      "* To create a public link, set `share=True` in `launch()`.\n"
     ]
    },
    {
     "data": {
      "text/html": [
       "<div><iframe src=\"http://127.0.0.1:7861/\" width=\"100%\" height=\"500\" allow=\"autoplay; camera; microphone; clipboard-read; clipboard-write;\" frameborder=\"0\" allowfullscreen></iframe></div>"
      ],
      "text/plain": [
       "<IPython.core.display.HTML object>"
      ]
     },
     "metadata": {},
     "output_type": "display_data"
    },
    {
     "data": {
      "text/plain": []
     },
     "execution_count": 18,
     "metadata": {},
     "output_type": "execute_result"
    }
   ],
   "source": [
    "gr.ChatInterface(chat, type=\"messages\").launch()"
   ]
  },
  {
   "cell_type": "markdown",
   "metadata": {},
   "source": [
    "## A lot is about to happen...\n",
    "\n",
    "1. Be able to ask an LLM to evaluate an answer\n",
    "2. Be able to rerun if the answer fails evaluation\n",
    "3. Put this together into 1 workflow\n",
    "\n",
    "All without any Agentic framework!"
   ]
  },
  {
   "cell_type": "code",
   "execution_count": 19,
   "metadata": {},
   "outputs": [],
   "source": [
    "# Create a Pydantic model for the Evaluation\n",
    "\n",
    "from pydantic import BaseModel\n",
    "\n",
    "class Evaluation(BaseModel):\n",
    "    is_acceptable: bool\n",
    "    feedback: str\n"
   ]
  },
  {
   "cell_type": "code",
   "execution_count": 21,
   "metadata": {},
   "outputs": [],
   "source": [
    "evaluator_system_prompt = f\"You are an evaluator that decides whether a response to a question is acceptable. \\\n",
    "You are provided with a conversation between a User and an Agent. Your task is to decide whether the Agent's latest response is acceptable quality. \\\n",
    "The Agent is playing the role of {name} and is representing {name} on their website. \\\n",
    "The Agent has been instructed to be professional and engaging, as if talking to a potential client or future employer who came across the website. \\\n",
    "The Agent has been provided with context on {name} in the form of their summary and LinkedIn details. Here's the information:\"\n",
    "\n",
    "evaluator_system_prompt += f\"\\n\\n## Summary:\\n{summary}\\n\\n## LinkedIn Profile:\\n{linkedin}\\n\\n## CV:\\n{cv}\\n\\n\"\n",
    "evaluator_system_prompt += f\"With this context, please evaluate the latest response, replying with whether the response is acceptable and your feedback.\""
   ]
  },
  {
   "cell_type": "code",
   "execution_count": 22,
   "metadata": {},
   "outputs": [],
   "source": [
    "def evaluator_user_prompt(reply, message, history):\n",
    "    user_prompt = f\"Here's the conversation between the User and the Agent: \\n\\n{history}\\n\\n\"\n",
    "    user_prompt += f\"Here's the latest message from the User: \\n\\n{message}\\n\\n\"\n",
    "    user_prompt += f\"Here's the latest response from the Agent: \\n\\n{reply}\\n\\n\"\n",
    "    user_prompt += \"Please evaluate the response, replying with whether it is acceptable and your feedback.\"\n",
    "    return user_prompt"
   ]
  },
  {
   "cell_type": "code",
   "execution_count": 23,
   "metadata": {},
   "outputs": [],
   "source": [
    "import os\n",
    "gemini = OpenAI(\n",
    "    api_key=os.getenv(\"GOOGLE_API_KEY\"), \n",
    "    base_url=\"https://generativelanguage.googleapis.com/v1beta/openai/\"\n",
    ")"
   ]
  },
  {
   "cell_type": "code",
   "execution_count": 24,
   "metadata": {},
   "outputs": [],
   "source": [
    "def evaluate(reply, message, history) -> Evaluation:\n",
    "\n",
    "    messages = [{\"role\": \"system\", \"content\": evaluator_system_prompt}] + [{\"role\": \"user\", \"content\": evaluator_user_prompt(reply, message, history)}]\n",
    "    response = gemini.beta.chat.completions.parse(model=\"gemini-2.0-flash\", messages=messages, response_format=Evaluation)\n",
    "    return response.choices[0].message.parsed"
   ]
  },
  {
   "cell_type": "code",
   "execution_count": 25,
   "metadata": {},
   "outputs": [],
   "source": [
    "messages = [{\"role\": \"system\", \"content\": system_prompt}] + [{\"role\": \"user\", \"content\": \"do you hold a patent?\"}]\n",
    "response = openai.chat.completions.create(model=\"gpt-4o-mini\", messages=messages)\n",
    "reply = response.choices[0].message.content"
   ]
  },
  {
   "cell_type": "code",
   "execution_count": 26,
   "metadata": {},
   "outputs": [
    {
     "data": {
      "text/plain": [
       "'Yes, I hold a patent titled \"Methods and apparatus to reduce an action space for workload execution.\" You can find more information about the patent [here](https://patents.google.com/patent/US20250077298A1). If you have any more questions or need further details, feel free to ask!'"
      ]
     },
     "execution_count": 26,
     "metadata": {},
     "output_type": "execute_result"
    }
   ],
   "source": [
    "reply"
   ]
  },
  {
   "cell_type": "code",
   "execution_count": 27,
   "metadata": {},
   "outputs": [
    {
     "data": {
      "text/plain": [
       "Evaluation(is_acceptable=True, feedback='The response is great. It correctly answers the question, provides the correct link and ends with a personable tone.')"
      ]
     },
     "execution_count": 27,
     "metadata": {},
     "output_type": "execute_result"
    }
   ],
   "source": [
    "evaluate(reply, \"do you hold a patent?\", messages[:1])"
   ]
  },
  {
   "cell_type": "code",
   "execution_count": 28,
   "metadata": {},
   "outputs": [],
   "source": [
    "def rerun(reply, message, history, feedback):\n",
    "    updated_system_prompt = system_prompt + \"\\n\\n## Previous answer rejected\\nYou just tried to reply, but the quality control rejected your reply\\n\"\n",
    "    updated_system_prompt += f\"## Your attempted answer:\\n{reply}\\n\\n\"\n",
    "    updated_system_prompt += f\"## Reason for rejection:\\n{feedback}\\n\\n\"\n",
    "    messages = [{\"role\": \"system\", \"content\": updated_system_prompt}] + history + [{\"role\": \"user\", \"content\": message}]\n",
    "    response = openai.chat.completions.create(model=\"gpt-4o-mini\", messages=messages)\n",
    "    return response.choices[0].message.content"
   ]
  },
  {
   "cell_type": "code",
   "execution_count": 29,
   "metadata": {},
   "outputs": [],
   "source": [
    "def chat(message, history):\n",
    "    if \"patent\" in message:\n",
    "        system = system_prompt + \"\\n\\nEverything in your reply needs to be in pig latin - \\\n",
    "              it is mandatory that you respond only and entirely in pig latin\"\n",
    "    else:\n",
    "        system = system_prompt\n",
    "    messages = [{\"role\": \"system\", \"content\": system}] + history + [{\"role\": \"user\", \"content\": message}]\n",
    "    response = openai.chat.completions.create(model=\"gpt-4o-mini\", messages=messages)\n",
    "    reply =response.choices[0].message.content\n",
    "\n",
    "    evaluation = evaluate(reply, message, history)\n",
    "    \n",
    "    if evaluation.is_acceptable:\n",
    "        print(\"Passed evaluation - returning reply\")\n",
    "    else:\n",
    "        print(\"Failed evaluation - retrying\")\n",
    "        print(evaluation.feedback)\n",
    "        reply = rerun(reply, message, history, evaluation.feedback)       \n",
    "    return reply"
   ]
  },
  {
   "cell_type": "code",
   "execution_count": 30,
   "metadata": {},
   "outputs": [
    {
     "name": "stdout",
     "output_type": "stream",
     "text": [
      "* Running on local URL:  http://127.0.0.1:7862\n",
      "* To create a public link, set `share=True` in `launch()`.\n"
     ]
    },
    {
     "data": {
      "text/html": [
       "<div><iframe src=\"http://127.0.0.1:7862/\" width=\"100%\" height=\"500\" allow=\"autoplay; camera; microphone; clipboard-read; clipboard-write;\" frameborder=\"0\" allowfullscreen></iframe></div>"
      ],
      "text/plain": [
       "<IPython.core.display.HTML object>"
      ]
     },
     "metadata": {},
     "output_type": "display_data"
    },
    {
     "data": {
      "text/plain": []
     },
     "execution_count": 30,
     "metadata": {},
     "output_type": "execute_result"
    },
    {
     "name": "stdout",
     "output_type": "stream",
     "text": [
      "Passed evaluation - returning reply\n",
      "Passed evaluation - returning reply\n",
      "Failed evaluation - retrying\n",
      "The response is not acceptable because it's nonsensical. The agent is speaking in pig latin.\n"
     ]
    }
   ],
   "source": [
    "gr.ChatInterface(chat, type=\"messages\").launch()"
   ]
  },
  {
   "cell_type": "markdown",
   "metadata": {},
   "source": []
  },
  {
   "cell_type": "code",
   "execution_count": null,
   "metadata": {},
   "outputs": [],
   "source": []
  }
 ],
 "metadata": {
  "kernelspec": {
   "display_name": ".venv",
   "language": "python",
   "name": "python3"
  },
  "language_info": {
   "codemirror_mode": {
    "name": "ipython",
    "version": 3
   },
   "file_extension": ".py",
   "mimetype": "text/x-python",
   "name": "python",
   "nbconvert_exporter": "python",
   "pygments_lexer": "ipython3",
   "version": "3.12.1"
  }
 },
 "nbformat": 4,
 "nbformat_minor": 2
}
