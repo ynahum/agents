{
 "cells": [
  {
   "cell_type": "markdown",
   "metadata": {},
   "source": [
    "## Welcome to Week 4, Day 4\n",
    "\n",
    "This is the start of an AWESOME project! Really simple and very effective."
   ]
  },
  {
   "cell_type": "code",
   "execution_count": 11,
   "metadata": {},
   "outputs": [],
   "source": [
    "from typing import Annotated\n",
    "from typing_extensions import TypedDict\n",
    "from langgraph.graph import StateGraph, START\n",
    "from langgraph.graph.message import add_messages\n",
    "from dotenv import load_dotenv\n",
    "from IPython.display import Image, display\n",
    "import gradio as gr\n",
    "from langgraph.prebuilt import ToolNode, tools_condition\n",
    "import requests\n",
    "import os\n",
    "from langchain.agents import Tool\n",
    "\n",
    "from langchain_openai import ChatOpenAI\n",
    "from langgraph.checkpoint.memory import MemorySaver"
   ]
  },
  {
   "cell_type": "code",
   "execution_count": 12,
   "metadata": {},
   "outputs": [
    {
     "data": {
      "text/plain": [
       "True"
      ]
     },
     "execution_count": 12,
     "metadata": {},
     "output_type": "execute_result"
    }
   ],
   "source": [
    "load_dotenv(override=True)"
   ]
  },
  {
   "cell_type": "markdown",
   "metadata": {},
   "source": [
    "### Asynchronous LangGraph\n",
    "\n",
    "To run a tool:  \n",
    "Sync: `tool.run(inputs)`  \n",
    "Async: `await tool.arun(inputs)`\n",
    "\n",
    "To invoke the graph:  \n",
    "Sync: `graph.invoke(state)`  \n",
    "Async: `await graph.ainvoke(state)`"
   ]
  },
  {
   "cell_type": "code",
   "execution_count": 13,
   "metadata": {},
   "outputs": [],
   "source": [
    "class State(TypedDict):\n",
    "    \n",
    "    messages: Annotated[list, add_messages]\n",
    "\n",
    "\n",
    "graph_builder = StateGraph(State)"
   ]
  },
  {
   "cell_type": "code",
   "execution_count": 14,
   "metadata": {},
   "outputs": [],
   "source": [
    "pushover_token = os.getenv(\"PUSHOVER_TOKEN\")\n",
    "pushover_user = os.getenv(\"PUSHOVER_USER\")\n",
    "pushover_url = \"https://api.pushover.net/1/messages.json\"\n",
    "\n",
    "def push(text: str):\n",
    "    \"\"\"Send a push notification to the user\"\"\"\n",
    "    requests.post(pushover_url, data = {\"token\": pushover_token, \"user\": pushover_user, \"message\": text})\n",
    "\n",
    "tool_push = Tool(\n",
    "        name=\"send_push_notification\",\n",
    "        func=push,\n",
    "        description=\"useful for when you want to send a push notification\"\n",
    "    )"
   ]
  },
  {
   "cell_type": "markdown",
   "metadata": {},
   "source": [
    "## Extra installation step - if you don't have Node and Playwright on your computer\n",
    "\n",
    "Next, you need to install NodeJS and Playwright on your computer if you don't already have them. Please see instructions here:\n",
    "\n",
    "[Node and Playwright setup](../setup/SETUP-node.md)"
   ]
  },
  {
   "cell_type": "markdown",
   "metadata": {},
   "source": [
    "## And now - after Installing Playwright, a heads up for Windows PC Users:\n",
    "\n",
    "While executing the next few cells, you might hit a problem with the Playwright browser raising a NotImplementedError.\n",
    "\n",
    "This should work when we move to python modules, but it can cause problems in Windows in a notebook.\n",
    "\n",
    "If you it this error and would like to run the notebook, you need to make a small change which seems quite hacky! You need to do this AFTER installing Playwright (prior cells)\n",
    "\n",
    "1. Right click in `.venv` in the File Explorer on the left and select \"Find in folder\"\n",
    "2. Search for `asyncio.set_event_loop_policy(WindowsSelectorEventLoopPolicy())`  \n",
    "3. That code should be found in a line of code in a file called `kernelapp.py`\n",
    "4. Comment out the entire else clause that this line is a part of - see the fragment below. Be sure to have the \"pass\" statement after the ImportError line.\n",
    "5. Restart the kernel by pressing the \"Restart\" button above\n",
    "\n",
    "```python\n",
    "        if sys.platform.startswith(\"win\") and sys.version_info >= (3, 8):\n",
    "            import asyncio\n",
    " \n",
    "            try:\n",
    "                from asyncio import WindowsProactorEventLoopPolicy, WindowsSelectorEventLoopPolicy\n",
    "            except ImportError:\n",
    "                pass\n",
    "                # not affected\n",
    "           # else:\n",
    "            #    if type(asyncio.get_event_loop_policy()) is WindowsProactorEventLoopPolicy:\n",
    "                    # WindowsProactorEventLoopPolicy is not compatible with tornado 6\n",
    "                    # fallback to the pre-3.8 default of Selector\n",
    "                    # asyncio.set_event_loop_policy(WindowsSelectorEventLoopPolicy())\n",
    "```\n",
    "\n",
    "Thank you to student Nicolas for finding this, and to Kalyan, Yaki, Zibin and Bhaskar for confirming that this worked for them! And to Vladislav for the extra pointers.\n",
    "\n",
    "As an alternative, you can just move to a Python module (which we do anyway in Day 5)"
   ]
  },
  {
   "cell_type": "code",
   "execution_count": 2,
   "metadata": {},
   "outputs": [],
   "source": [
    "# Introducing nest_asyncio\n",
    "# Python async code only allows for one \"event loop\" processing aynchronous events.\n",
    "# The `nest_asyncio` library patches this, and is used for special situations, if you need to run a nested event loop.\n",
    "\n",
    "import nest_asyncio\n",
    "nest_asyncio.apply()"
   ]
  },
  {
   "cell_type": "markdown",
   "metadata": {},
   "source": [
    "### The LangChain community\n",
    "\n",
    "One of the remarkable things about LangChain is the rich community around it.\n",
    "\n",
    "Check this out:\n"
   ]
  },
  {
   "cell_type": "code",
   "execution_count": 3,
   "metadata": {},
   "outputs": [],
   "source": [
    "from langchain_community.agent_toolkits import PlayWrightBrowserToolkit\n",
    "from langchain_community.tools.playwright.utils import create_async_playwright_browser\n",
    "\n",
    "# If you get a NotImplementedError here or later, see the Heads Up at the top of the notebook\n",
    "\n",
    "async_browser =  create_async_playwright_browser(headless=False)  # headful mode\n",
    "toolkit = PlayWrightBrowserToolkit.from_browser(async_browser=async_browser)\n",
    "tools = toolkit.get_tools()"
   ]
  },
  {
   "cell_type": "code",
   "execution_count": 4,
   "metadata": {},
   "outputs": [
    {
     "name": "stdout",
     "output_type": "stream",
     "text": [
      "click_element=async_browser=<Browser type=<BrowserType name=chromium executable_path=C:\\Users\\ynahum\\AppData\\Local\\ms-playwright\\chromium-1169\\chrome-win\\chrome.exe> version=136.0.7103.25>\n",
      "navigate_browser=async_browser=<Browser type=<BrowserType name=chromium executable_path=C:\\Users\\ynahum\\AppData\\Local\\ms-playwright\\chromium-1169\\chrome-win\\chrome.exe> version=136.0.7103.25>\n",
      "previous_webpage=async_browser=<Browser type=<BrowserType name=chromium executable_path=C:\\Users\\ynahum\\AppData\\Local\\ms-playwright\\chromium-1169\\chrome-win\\chrome.exe> version=136.0.7103.25>\n",
      "extract_text=async_browser=<Browser type=<BrowserType name=chromium executable_path=C:\\Users\\ynahum\\AppData\\Local\\ms-playwright\\chromium-1169\\chrome-win\\chrome.exe> version=136.0.7103.25>\n",
      "extract_hyperlinks=async_browser=<Browser type=<BrowserType name=chromium executable_path=C:\\Users\\ynahum\\AppData\\Local\\ms-playwright\\chromium-1169\\chrome-win\\chrome.exe> version=136.0.7103.25>\n",
      "get_elements=async_browser=<Browser type=<BrowserType name=chromium executable_path=C:\\Users\\ynahum\\AppData\\Local\\ms-playwright\\chromium-1169\\chrome-win\\chrome.exe> version=136.0.7103.25>\n",
      "current_webpage=async_browser=<Browser type=<BrowserType name=chromium executable_path=C:\\Users\\ynahum\\AppData\\Local\\ms-playwright\\chromium-1169\\chrome-win\\chrome.exe> version=136.0.7103.25>\n"
     ]
    }
   ],
   "source": [
    "for tool in tools:\n",
    "    print(f\"{tool.name}={tool}\")"
   ]
  },
  {
   "cell_type": "code",
   "execution_count": 7,
   "metadata": {},
   "outputs": [],
   "source": [
    "tool_dict = {tool.name:tool for tool in tools}\n",
    "\n",
    "navigate_tool = tool_dict.get(\"navigate_browser\")\n",
    "extract_text_tool = tool_dict.get(\"extract_text\")\n",
    "\n",
    "    \n",
    "await navigate_tool.arun({\"url\": \"https://www.cnn.com\"},timeout=50000)\n",
    "text = await extract_text_tool.arun({})"
   ]
  },
  {
   "cell_type": "code",
   "execution_count": 8,
   "metadata": {},
   "outputs": [
    {
     "name": "stdout",
     "output_type": "stream",
     "text": [
      "Breaking News, Latest News and Videos | CNN CNN values your feedback\n",
      "1. How relevant is this ad to you? 2. Did you encounter any technical\n",
      "issues? No Video player was slow to load content Video content never\n",
      "loaded Ad froze or did not finish loading Video content did not start\n",
      "after ad Audio on ad was too loud Other issues Ad never loaded Ad\n",
      "prevented/slowed the page from loading Content moved around while ad\n",
      "loaded Ad was repetitive to ads I've seen previously Other issues\n",
      "Cancel Submit Thank You! Your effort and contribution in providing\n",
      "this feedback is much\n",
      "appreciated. Close Ad Feedback Close icon US World Politics Business\n",
      "Health Entertainment Style Travel Sports Science Climate Weather\n",
      "Ukraine-Russia War Israel-Hamas War Games More US World Politics\n",
      "Business Health Entertainment Style Travel Sports Science Climate\n",
      "Weather Ukraine-Russia War Israel-Hamas War Games Watch Listen Live TV\n",
      "Subscribe Sign in My Account Settings Newsletters Topics you follow\n",
      "Sign out Your CNN account Sign in to your CNN account Sign in My\n",
      "Account Settings Newsletters Topics you follow Sign out Your CNN\n",
      "account Sign in to your CNN account Live TV Listen Watch Edition US\n",
      "International Arabic Español Edition US International Arabic Español\n",
      "World Africa Americas Asia Australia China Europe India Middle East\n",
      "United Kingdom US Politics Trump Facts First CNN Polls 2025 Elections\n",
      "Business Tech Media Calculators Videos Markets Pre-markets After-Hours\n",
      "Fear & Greed Investing Markets Now Nightcap Health Life, But Better\n",
      "Fitness Food Sleep Mindfulness Relationships Entertainment Movies\n",
      "Television Celebrity Tech Innovate Foreseeable Future Mission: Ahead\n",
      "Work Transformed Innovative Cities Style Arts Design Fashion\n",
      "Architecture Luxury Beauty Video Travel Destinations Food & Drink Stay\n",
      "News Videos Sports Football Tennis Golf Motorsport US Sports Olympics\n",
      "Climbing Esports Hockey Science Space Life Unearthed Climate Solutions\n",
      "Weather Weather Video Climate Ukraine-Russia War Israel-Hamas War\n",
      "Features As Equals Call to Earth Freedom Project Impact Your World\n",
      "Inside Africa CNN Heroes Watch Live TV CNN Fast Shows A-Z CNN10 CNN\n",
      "Max CNN TV Schedules Listen CNN 5 Things Chasing Life with Dr. Sanjay\n",
      "Gupta The Assignment with Audie Cornish One Thing Tug of War CNN\n",
      "Political Briefing The Axe Files All There Is with Anderson Cooper All\n",
      "CNN Audio podcasts Games Daily Crossword Jumble Crossword Photo\n",
      "Shuffle Sudoblock Sudoku 5 Things Quiz About CNN Photos Investigations\n",
      "CNN Profiles CNN Leadership CNN Newsletters Work for CNN Follow CNN\n",
      "Israel’s isolation deepens Trump’s war on the arts Prince William\n",
      "Versace’s new era Tekken Female cabbies in Mexico City Selena Gomez\n",
      "weds Benny Blanco Nathan Howard/Pool/Reuters From diplomacy to soccer,\n",
      "Israel is becoming a pariah on the global stage Trump promises\n",
      "‘something special’ on Gaza as Israeli officials say Netanyahu has\n",
      "reservations on ceasefire plan Iran hit with ‘snapback’ sanctions over\n",
      "nuclear program Israeli strikes left Syria ‘stunned’ and makes\n",
      "normalization ‘difficult,’ Syrian foreign minister says KPTV Portland\n",
      "is pushing back against ICE. Now Trump is sending in troops Live\n",
      "Updates Senate majority whip blames looming shutdown on Schumer,\n",
      "Democrats At least two dead and eight injured in Michigan church\n",
      "shooting Show all • Live Updates Live Updates Reuters, Getty Images,\n",
      "AP, Julie J Live Updates Police believe more victims will be found on\n",
      "scene and that the suspect ‘deliberately’ set fire to the church Video\n",
      "See the scene of the deadly church shooting and fire 0:37 Live Updates\n",
      "22 min ago Crews battle large fire at Church of Jesus Christ of\n",
      "Latter-day Saints in Grand Blanc, Michigan, on Sunday, September 28.\n",
      "Julie J At least 1 dead and 9 others wounded after shooting at\n",
      "Michigan church 22 min ago What we know so far about today’s LDS\n",
      "church shooting in Michigan 24 min ago Police chief provides number\n",
      "for family reunification efforts 24 min ago At least 2 people killed\n",
      "and 8 shot in Michigan church attack, police say 1 hr ago Some cities\n",
      "have ramped up police presence at places of worship after the Michigan\n",
      "shooting 1 hr 9 min ago Authorities expected to hold a news conference\n",
      "at 5 p.m. ET 1 hr 56 min ago Today's shooting comes a day after the\n",
      "death of LDS president 2 hr 6 min ago Authorities will execute search\n",
      "warrant at suspect's home as motive remains unknown 1 hr 55 min ago\n",
      "There have been at least 324 mass shootings this year 2 hr 5 min ago\n",
      "Shooting follows other attacks on houses of worship 1 hr 47 min ago\n",
      "LDS church calls for \"peace and healing\" after \"tragic act of\n",
      "violence\" 2 hr 14 min ago Hundreds of people were attending Sunday\n",
      "service when shooting occurred 2 hr 40 min ago Suspect used an assault\n",
      "rifle, police say 2 hr 30 min ago Trump briefed on LDS church shooting\n",
      "2 hr 36 min ago Bomb squad assessing suspicious item found on church\n",
      "property, source says 2 hr 32 min ago Officers exchanged fire with the\n",
      "suspect and killed him, police chief says 2 hr 3 min ago Police\n",
      "believe more victims will be found on scene 2 hr 5 min ago Police\n",
      "believe fire at LDS church was \"deliberately\" set by suspect 2 hr 41\n",
      "min ago Gunman drove vehicle into Grand Blanc church and opened fire,\n",
      "police chief says 3 hr 16 min ago At least one person has died and\n",
      "nine have been injured, police chief says 3 hr 31 min ago Watch: Heavy\n",
      "police presence and smoke billow near Michigan LDS church 3 hr 31 min\n",
      "ago Aerial view shows how large the Michigan church fire has grown 3\n",
      "hr 47 min ago \"My heart is breaking for the Grand Blanc community,\"\n",
      "Michigan governor says 3 hr 38 min ago Attorney general and FBI\n",
      "director react to shooting 3 hr 36 min ago Children among those\n",
      "wounded in LDS church shooting, source says 4 hr 13 min ago Videos\n",
      "show large plumes of smoke from fire at church in Grand Blanc 4 hr 13\n",
      "min ago Multiple people hurt in Michigan church shooting See all\n",
      "updates ( 26 +) Play Catch up on today's global news • Source: CNN\n",
      "Video Catch up on today’s global news Ryder Cup • Live Updates Live\n",
      "Updates Richard Heathcote/Getty Images Live Updates Team Europe on the\n",
      "verge of Ryder Cup glory in a shellacking of Team USA Carl\n",
      "Recine/Getty Images Bethpage Black comes close to boiling over as\n",
      "frustrated American fans crank up heckling of Team Europe • Video 1:38\n",
      "Seth Wenig/AP Video Analysis: Ryder Cup has been a ‘disaster’ for Team\n",
      "USA 1:38 Ad Feedback More top stories CNN Tropical Storm Imelda has\n",
      "formed, and there’s been a big change in the forecasted path. What you\n",
      "need to know New York City Mayor Eric Adams suspends his reelection\n",
      "bid American man detained in Afghanistan has been released Russia\n",
      "attacks Ukraine with one of the largest aerial assaults of the war,\n",
      "killing four and injuring dozens Video Russian military personnel to\n",
      "teach children at new drone school 1:48 Rally for Indian actor-\n",
      "politician turns to tragedy as crush kills 40 Video Relatives grieve\n",
      "victims of deadly crowd crush 0:20 Weekend reading • Personal essay\n",
      "Personal essay Will Lanzoni/CNN • Personal essay Personal essay\n",
      "Personal essay Can the party drug ketamine be a mental health\n",
      "breakthrough? It was for me Photo Illustration by Jason\n",
      "Lancaster/CNN/Getty Images ‘A national emergency’: As Trump goes after\n",
      "the arts, many museums remain silent Sep 28, 2025 Javed Iqbal/CNN\n",
      "Remember ’90s gaming classic Tekken? In Pakistan, it’s a ticket to\n",
      "fame and fortune Sep 27, 2025 Ad Feedback Tying the knot Frazer\n",
      "Harrison/Getty Images Selena Gomez weds Benny Blanco • Personal essay\n",
      "Personal essay Austin Steele/CNN Personal essay I have been in 8\n",
      "weddings, then had my own, and here is what I learned Ad Feedback\n",
      "Fashion week Alessandro Garofalo/Reuters She’s one of the few female\n",
      "designers in luxury fashion. Here’s what she has to say Claudia\n",
      "Greco/Reuters Meryl Streep crashes Milan fashion show for ‘Devil Wears\n",
      "Prada 2’ shoot Versace Sexy, bold and uninhibited: This is what the\n",
      "new Versace looks like Ad Feedback US politics Anna Moneymaker/Getty\n",
      "Images GOP leaders say they will not give into Democratic demands on\n",
      "funding bill as government shutdown looms Angelina Katsanis/AP/File An\n",
      "NYPD officer’s death tested what Zohran Mamdani truly believes about\n",
      "the police Mandel Ngan/AFP/Getty Images Trump plans to attend\n",
      "gathering of senior military officials in Virginia this week James\n",
      "Comey indictment • Analysis Analysis Ken Cedeno/Reuters Analysis Why\n",
      "the Comey indictment is different from the Biden DOJ’s indictment of\n",
      "Trump Samuel Corum/Getty Images Trump accuses Wray of lying about\n",
      "agency actions on January 6, days after Comey indicted • Video 7:48\n",
      "Video McCabe reveals whether FBI contacted him over Comey indictment\n",
      "7:48 Ad Feedback Destination Turkey mrtekmekci/E+/Getty Images An\n",
      "A-list paradise getaway 3,000 years in the making The hidden ‘eagle’s\n",
      "nest’ city that Alexander the Great couldn’t conquer Travel and Beyond\n",
      "• Video 0:49 XINHUA Video World’s tallest bridge opens in China 0:49\n",
      "Chicago and Atlanta climb rankings of the world’s most connected\n",
      "airports Money & Tech Jade Gao/AFP/Getty Images For China’s electric\n",
      "car makers, the boom has become a bloodbath Analysis No one can seem\n",
      "to kill America’s economy, despite everyone’s best efforts Ad Feedback\n",
      "Crime & Investigations Ross D. Franklin/AP Nearly undetectable threat\n",
      "of snipers has political security experts sounding alarms 3 killed, 8\n",
      "injured when gunman on a boat opens fire on crowd at a coastal North\n",
      "Carolina bar, officials say Science & discovery National Geographic Is\n",
      "a discovery off Egypt’s coast linked to Cleopatra’s lost tomb?\n",
      "Scientists say they’ve found clues The farthest spacecraft from Earth\n",
      "have exited our solar system’s protective bubble. A new mission will\n",
      "map it Taxis for women only ﻿Lali Houghton/CNN The female cabbies\n",
      "rebelling against brutal violence Video Mexico City female cabbies\n",
      "rebel against brutal violence 4:58 World of Wonder Show all The Asahi\n",
      "Shimbun/Getty Images 24 of the world’s most unusual landscapes\n",
      "Whitworth Images/Moment RF/Getty Images Why only 400 people at a time\n",
      "can visit this paradise island Azhar Al-Rubaie Babylon was once an\n",
      "ancient wonder. Today it’s a very different story Lyle Johnson/Design\n",
      "Pics Editorial/Universal Images Group/Getty Images World’s most\n",
      "beautiful castles Ad Feedback More from CNN dikushin/iStockphoto/Getty\n",
      "Images Hundreds of Israelis receive recruitment calls from Iranian\n",
      "intelligence, police say Acetaminophen use during pregnancy not linked\n",
      "to autism, our study of 2.5 million children shows Prince William says\n",
      "2024 was the hardest year of his life Analysis 10 years ago ‘I am\n",
      "Charlie’ was born. Now it means something very different Tokyo takes\n",
      "the top spot in ‘world’s coolest’ neighborhood rankings (with London\n",
      "and Chicago close behind) Analysis How consumer pushback beat Trump’s\n",
      "pressure campaign on Kimmel American makes history by winning one of\n",
      "France’s top cheese competitions New York became ‘too crazy’ so she\n",
      "moved to an Italian village, met her husband and started a family Two\n",
      "couples bumped into each other in a taxi line, kickstarting a\n",
      "friendship of nearly 40 years Subscribe Sign in My Account Settings\n",
      "Newsletters Topics you follow Sign out Your CNN account Sign in to\n",
      "your CNN account Live TV Listen Watch World Africa Americas Asia\n",
      "Australia China Europe India Middle East United Kingdom US Politics\n",
      "Trump Facts First CNN Polls 2025 Elections Business Tech Media\n",
      "Calculators Videos Markets Pre-markets After-Hours Fear & Greed\n",
      "Investing Markets Now Nightcap Health Life, But Better Fitness Food\n",
      "Sleep Mindfulness Relationships Entertainment Movies Television\n",
      "Celebrity Tech Innovate Foreseeable Future Mission: Ahead Work\n",
      "Transformed Innovative Cities Style Arts Design Fashion Architecture\n",
      "Luxury Beauty Video Travel Destinations Food & Drink Stay News Videos\n",
      "Sports Football Tennis Golf Motorsport US Sports Olympics Climbing\n",
      "Esports Hockey Science Space Life Unearthed Climate Solutions Weather\n",
      "Weather Video Climate Ukraine-Russia War Israel-Hamas War Features As\n",
      "Equals Call to Earth Freedom Project Impact Your World Inside Africa\n",
      "CNN Heroes Watch Live TV CNN Fast Shows A-Z CNN10 CNN Max CNN TV\n",
      "Schedules Listen CNN 5 Things Chasing Life with Dr. Sanjay Gupta The\n",
      "Assignment with Audie Cornish One Thing Tug of War CNN Political\n",
      "Briefing The Axe Files All There Is with Anderson Cooper All CNN Audio\n",
      "podcasts Games Daily Crossword Jumble Crossword Photo Shuffle\n",
      "Sudoblock Sudoku 5 Things Quiz About CNN Photos Investigations CNN\n",
      "Profiles CNN Leadership CNN Newsletters Work for CNN Watch Listen Live\n",
      "TV Follow CNN Subscribe Sign in My Account Settings Newsletters Topics\n",
      "you follow Sign out Your CNN account Sign in to your CNN account Terms\n",
      "of Use Privacy Policy Manage Cookies Ad Choices Accessibility & CC\n",
      "About Newsletters Transcripts © 2025 Cable News Network. A Warner\n",
      "Bros. Discovery Company. All Rights Reserved. CNN Sans ™ & © 2016\n",
      "Cable News Network. Privacy Policy For privacy options, please see our\n",
      "privacy policy: https://www.cnn.com/privacy . Back Button Cookie List\n",
      "Search Icon Filter Icon Clear checkbox label label Apply Cancel\n",
      "Consent Leg.Interest checkbox label label checkbox label label\n",
      "checkbox label label Close\n"
     ]
    }
   ],
   "source": [
    "import textwrap\n",
    "print(textwrap.fill(text))"
   ]
  },
  {
   "cell_type": "code",
   "execution_count": 15,
   "metadata": {},
   "outputs": [],
   "source": [
    "all_tools = tools + [tool_push]"
   ]
  },
  {
   "cell_type": "code",
   "execution_count": 16,
   "metadata": {},
   "outputs": [],
   "source": [
    "\n",
    "llm = ChatOpenAI(model=\"gpt-4o-mini\")\n",
    "llm_with_tools = llm.bind_tools(all_tools)\n",
    "\n",
    "\n",
    "def chatbot(state: State):\n",
    "    return {\"messages\": [llm_with_tools.invoke(state[\"messages\"])]}\n"
   ]
  },
  {
   "cell_type": "code",
   "execution_count": 17,
   "metadata": {},
   "outputs": [],
   "source": [
    "\n",
    "graph_builder = StateGraph(State)\n",
    "graph_builder.add_node(\"chatbot\", chatbot)\n",
    "graph_builder.add_node(\"tools\", ToolNode(tools=all_tools))\n",
    "graph_builder.add_conditional_edges( \"chatbot\", tools_condition, \"tools\")\n",
    "graph_builder.add_edge(\"tools\", \"chatbot\")\n",
    "graph_builder.add_edge(START, \"chatbot\")\n",
    "\n",
    "memory = MemorySaver()\n",
    "graph = graph_builder.compile(checkpointer=memory)\n",
    "#display(Image(graph.get_graph().draw_mermaid_png()))"
   ]
  },
  {
   "cell_type": "code",
   "execution_count": 18,
   "metadata": {},
   "outputs": [
    {
     "name": "stdout",
     "output_type": "stream",
     "text": [
      "* Running on local URL:  http://127.0.0.1:7860\n",
      "* To create a public link, set `share=True` in `launch()`.\n"
     ]
    },
    {
     "data": {
      "text/html": [
       "<div><iframe src=\"http://127.0.0.1:7860/\" width=\"100%\" height=\"500\" allow=\"autoplay; camera; microphone; clipboard-read; clipboard-write;\" frameborder=\"0\" allowfullscreen></iframe></div>"
      ],
      "text/plain": [
       "<IPython.core.display.HTML object>"
      ]
     },
     "metadata": {},
     "output_type": "display_data"
    },
    {
     "data": {
      "text/plain": []
     },
     "execution_count": 18,
     "metadata": {},
     "output_type": "execute_result"
    }
   ],
   "source": [
    "config = {\"configurable\": {\"thread_id\": \"10\"}}\n",
    "\n",
    "async def chat(user_input: str, history):\n",
    "    result = await graph.ainvoke({\"messages\": [{\"role\": \"user\", \"content\": user_input}]}, config=config)\n",
    "    return result[\"messages\"][-1].content\n",
    "\n",
    "\n",
    "gr.ChatInterface(chat, type=\"messages\").launch()"
   ]
  },
  {
   "cell_type": "code",
   "execution_count": null,
   "metadata": {},
   "outputs": [],
   "source": []
  }
 ],
 "metadata": {
  "kernelspec": {
   "display_name": ".venv",
   "language": "python",
   "name": "python3"
  },
  "language_info": {
   "codemirror_mode": {
    "name": "ipython",
    "version": 3
   },
   "file_extension": ".py",
   "mimetype": "text/x-python",
   "name": "python",
   "nbconvert_exporter": "python",
   "pygments_lexer": "ipython3",
   "version": "3.12.1"
  }
 },
 "nbformat": 4,
 "nbformat_minor": 2
}
